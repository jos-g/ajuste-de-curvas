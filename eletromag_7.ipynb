{
 "cells": [
  {
   "cell_type": "code",
   "execution_count": 1,
   "metadata": {},
   "outputs": [],
   "source": [
    "import numpy as np\n",
    "import matplotlib.pyplot as plt\n",
    "import pandas as pd\n",
    "import scipy.optimize as opt"
   ]
  },
  {
   "cell_type": "code",
   "execution_count": 2,
   "metadata": {},
   "outputs": [],
   "source": [
    "%matplotlib inline"
   ]
  },
  {
   "cell_type": "code",
   "execution_count": 3,
   "metadata": {},
   "outputs": [
    {
     "data": {
      "text/html": [
       "<div>\n",
       "<style scoped>\n",
       "    .dataframe tbody tr th:only-of-type {\n",
       "        vertical-align: middle;\n",
       "    }\n",
       "\n",
       "    .dataframe tbody tr th {\n",
       "        vertical-align: top;\n",
       "    }\n",
       "\n",
       "    .dataframe thead th {\n",
       "        text-align: right;\n",
       "    }\n",
       "</style>\n",
       "<table border=\"1\" class=\"dataframe\">\n",
       "  <thead>\n",
       "    <tr style=\"text-align: right;\">\n",
       "      <th></th>\n",
       "      <th>fem</th>\n",
       "      <th>t</th>\n",
       "    </tr>\n",
       "  </thead>\n",
       "  <tbody>\n",
       "    <tr>\n",
       "      <th>0</th>\n",
       "      <td>14.55</td>\n",
       "      <td>0</td>\n",
       "    </tr>\n",
       "    <tr>\n",
       "      <th>1</th>\n",
       "      <td>14.24</td>\n",
       "      <td>5</td>\n",
       "    </tr>\n",
       "    <tr>\n",
       "      <th>2</th>\n",
       "      <td>13.95</td>\n",
       "      <td>10</td>\n",
       "    </tr>\n",
       "    <tr>\n",
       "      <th>3</th>\n",
       "      <td>13.66</td>\n",
       "      <td>15</td>\n",
       "    </tr>\n",
       "    <tr>\n",
       "      <th>4</th>\n",
       "      <td>13.38</td>\n",
       "      <td>20</td>\n",
       "    </tr>\n",
       "    <tr>\n",
       "      <th>...</th>\n",
       "      <td>...</td>\n",
       "      <td>...</td>\n",
       "    </tr>\n",
       "    <tr>\n",
       "      <th>127</th>\n",
       "      <td>1.09</td>\n",
       "      <td>640</td>\n",
       "    </tr>\n",
       "    <tr>\n",
       "      <th>128</th>\n",
       "      <td>1.06</td>\n",
       "      <td>645</td>\n",
       "    </tr>\n",
       "    <tr>\n",
       "      <th>129</th>\n",
       "      <td>1.04</td>\n",
       "      <td>650</td>\n",
       "    </tr>\n",
       "    <tr>\n",
       "      <th>130</th>\n",
       "      <td>1.02</td>\n",
       "      <td>655</td>\n",
       "    </tr>\n",
       "    <tr>\n",
       "      <th>131</th>\n",
       "      <td>1.00</td>\n",
       "      <td>660</td>\n",
       "    </tr>\n",
       "  </tbody>\n",
       "</table>\n",
       "<p>132 rows × 2 columns</p>\n",
       "</div>"
      ],
      "text/plain": [
       "      fem     t\n",
       "0    14.55    0\n",
       "1    14.24    5\n",
       "2    13.95   10\n",
       "3    13.66   15\n",
       "4    13.38   20\n",
       "..     ...  ...\n",
       "127   1.09  640\n",
       "128   1.06  645\n",
       "129   1.04  650\n",
       "130   1.02  655\n",
       "131   1.00  660\n",
       "\n",
       "[132 rows x 2 columns]"
      ]
     },
     "execution_count": 3,
     "metadata": {},
     "output_type": "execute_result"
    }
   ],
   "source": [
    "df = pd.read_excel(\"eletromag_7.xlsx\")\n",
    "df"
   ]
  },
  {
   "cell_type": "code",
   "execution_count": 19,
   "metadata": {},
   "outputs": [
    {
     "name": "stdout",
     "output_type": "stream",
     "text": [
      "[14.55 14.24 13.95 13.66 13.38 13.12 12.86 12.59 12.32 12.08 11.83 11.58\n",
      " 11.34 11.12 10.9  10.68 10.45 10.24 10.04  9.82  9.63  9.42  9.23  9.04\n",
      "  8.85  8.69  8.52  8.33  8.16  7.99  7.84  7.68  7.52  7.36  7.21  7.07\n",
      "  6.93  6.78  6.64  6.5   6.38  6.26  6.12  6.09  5.85  5.74  5.63  5.52\n",
      "  5.4   5.29  5.19  5.09  4.97  4.86  4.87  4.68  4.59  4.49  4.41  4.31\n",
      "  4.22  4.14  4.06  3.97  3.89  3.81  3.74  3.66  3.59  3.51  3.44  3.37\n",
      "  3.3   3.23  3.17  3.1   3.05  2.98  2.93  2.87  2.81  2.74  2.7   2.64\n",
      "  2.58  2.54  2.48  2.43  2.38  2.34  2.29  2.25  2.2   2.15  2.12  2.06\n",
      "  2.03  1.98  1.94  1.9   1.87  1.83  1.8   1.76  1.72  1.69  1.66  1.62\n",
      "  1.59  1.56  1.53  1.49  1.46  1.44  1.41  1.38  1.39  1.33  1.3   1.27\n",
      "  1.25  1.22  1.2   1.18  1.16  1.13  1.1   1.09  1.06  1.04  1.02  1.  ]\n"
     ]
    }
   ],
   "source": [
    "y = np.array(df.iloc[:,0])\n",
    "print(y)"
   ]
  },
  {
   "cell_type": "code",
   "execution_count": 20,
   "metadata": {},
   "outputs": [
    {
     "name": "stdout",
     "output_type": "stream",
     "text": [
      "[  0   5  10  15  20  25  30  35  40  45  50  55  60  65  70  75  80  85\n",
      "  90  95 100 105 110 115 120 125 130 135 140 145 150 155 160 165 170 175\n",
      " 180 185 190 195 200 205 210 215 220 225 230 235 240 245 250 255 260 265\n",
      " 270 275 280 285 290 295 300 305 310 315 320 325 330 335 340 345 350 360\n",
      " 365 370 375 380 385 390 395 400 405 410 415 420 425 430 435 440 445 450\n",
      " 455 460 465 470 475 480 485 490 495 500 505 510 515 520 525 530 535 540\n",
      " 545 550 555 560 565 570 575 580 585 590 595 600 605 610 615 620 625 630\n",
      " 635 640 645 650 655 660]\n"
     ]
    }
   ],
   "source": [
    "x = np.array(df.iloc[:,1])\n",
    "print(x)"
   ]
  },
  {
   "cell_type": "code",
   "execution_count": 21,
   "metadata": {},
   "outputs": [
    {
     "name": "stdout",
     "output_type": "stream",
     "text": [
      "Erro Estatístico é : 0.15 V.\n"
     ]
    }
   ],
   "source": [
    "#Erro da medição:\n",
    "dpb = np.std(y, ddof=1)\n",
    "sigma = dpb / np.sqrt(660)\n",
    "print(\"Erro Estatístico é : {:.2f} V.\".format(sigma))"
   ]
  },
  {
   "cell_type": "code",
   "execution_count": 29,
   "metadata": {},
   "outputs": [
    {
     "name": "stdout",
     "output_type": "stream",
     "text": [
      "[  0   5  10  15  20  25  30  35  40  45  50  55  60  65  70  75  80  85\n",
      "  90  95 100 105 110 115 120 125 130 135 140 145 150 155 160 165 170 175\n",
      " 180 185 190 195 200 205 210 215 220 225 230 235 240 245 250 255 260 265\n",
      " 270 275 280 285 290 295 300 305 310 315 320 325 330 335 340 345 350 360\n",
      " 365 370 375 380 385 390 395 400 405 410 415 420 425 430 435 440 445 450\n",
      " 455 460 465 470 475 480 485 490 495 500 505 510 515 520 525 530 535 540\n",
      " 545 550 555 560 565 570 575 580 585 590 595 600 605 610 615 620 625 630\n",
      " 635 640 645 650 655 660]\n",
      "[14.55 14.24 13.95 13.66 13.38 13.12 12.86 12.59 12.32 12.08 11.83 11.58\n",
      " 11.34 11.12 10.9  10.68 10.45 10.24 10.04  9.82  9.63  9.42  9.23  9.04\n",
      "  8.85  8.69  8.52  8.33  8.16  7.99  7.84  7.68  7.52  7.36  7.21  7.07\n",
      "  6.93  6.78  6.64  6.5   6.38  6.26  6.12  6.09  5.85  5.74  5.63  5.52\n",
      "  5.4   5.29  5.19  5.09  4.97  4.86  4.87  4.68  4.59  4.49  4.41  4.31\n",
      "  4.22  4.14  4.06  3.97  3.89  3.81  3.74  3.66  3.59  3.51  3.44  3.37\n",
      "  3.3   3.23  3.17  3.1   3.05  2.98  2.93  2.87  2.81  2.74  2.7   2.64\n",
      "  2.58  2.54  2.48  2.43  2.38  2.34  2.29  2.25  2.2   2.15  2.12  2.06\n",
      "  2.03  1.98  1.94  1.9   1.87  1.83  1.8   1.76  1.72  1.69  1.66  1.62\n",
      "  1.59  1.56  1.53  1.49  1.46  1.44  1.41  1.38  1.39  1.33  1.3   1.27\n",
      "  1.25  1.22  1.2   1.18  1.16  1.13  1.1   1.09  1.06  1.04  1.02  1.  ]\n"
     ]
    }
   ],
   "source": [
    "x_samp = np.reshape(x,-1) \n",
    "y_samp = np.reshape(y,-1)\n",
    "print(x_samp)\n",
    "print(y_samp)"
   ]
  },
  {
   "cell_type": "code",
   "execution_count": 33,
   "metadata": {},
   "outputs": [],
   "source": [
    "#eq\n",
    "def func(x,e0, R, C) :\n",
    "    return 14.55*np.exp(-x/(220))"
   ]
  },
  {
   "cell_type": "code",
   "execution_count": 50,
   "metadata": {},
   "outputs": [
    {
     "data": {
      "text/plain": [
       "<matplotlib.legend.Legend at 0x151a70a1c60>"
      ]
     },
     "execution_count": 50,
     "metadata": {},
     "output_type": "execute_result"
    },
    {
     "data": {
      "image/png": "[encoded data removed]",
      "text/plain": [
       "<Figure size 432x288 with 1 Axes>"
      ]
     },
     "metadata": {
      "needs_background": "light"
     },
     "output_type": "display_data"
    }
   ],
   "source": [
    "x_lin = np.linspace(0, x_samp.max(), 50) \n",
    "# SURVEY ----------------------------------------------------------------------\n",
    "# Plotting Sampling Data\n",
    "plt.plot(x_samp, y_samp, \"ko\", label=\"Data\")\n",
    "\n",
    "x_lin = np.linspace(0, x_samp.max(), 50)                   # a number line, 50 evenly spaced digits between 0 and max\n",
    "\n",
    "# Trials\n",
    "e0, R, C = 14.55, 1000000, 000.220\n",
    "y_trial1 = func(x_lin,  e0,     R, C)\n",
    "y_trial2 = func(x_lin, 10.53, 1000000, 000.300)\n",
    "y_trial3 = func(x_lin, 5.238, 1000000, 239.8)\n",
    "\n",
    "plt.plot(x_lin, y_trial1, \"--\", label=\"Trial 1\")\n",
    "plt.plot(x_lin, y_trial2, \"--\", label=\"Trial 2\")\n",
    "plt.plot(x_lin, y_trial3, \"--\", label=\"Trial 3\")\n",
    "plt.legend()"
   ]
  },
  {
   "cell_type": "code",
   "execution_count": 59,
   "metadata": {},
   "outputs": [
    {
     "name": "stderr",
     "output_type": "stream",
     "text": [
      "C:\\Users\\gonca\\AppData\\Local\\Programs\\Python\\Python310\\lib\\site-packages\\scipy\\optimize\\_minpack_py.py:833: OptimizeWarning: Covariance of the parameters could not be estimated\n",
      "  warnings.warn('Covariance of the parameters could not be estimated',\n"
     ]
    },
    {
     "name": "stdout",
     "output_type": "stream",
     "text": [
      "Estimated Parameters [1.455e+01 1.000e+06 2.200e-01]\n"
     ]
    },
    {
     "data": {
      "image/png": "[encoded data removed]",
      "text/plain": [
       "<Figure size 576x576 with 1 Axes>"
      ]
     },
     "metadata": {
      "needs_background": "light"
     },
     "output_type": "display_data"
    }
   ],
   "source": [
    "p0 = [14.55,1000000,000.220]\n",
    "# REGRESSION ------------------------------------------------------------------ # guessed params\n",
    "w, _ = opt.curve_fit(func, x_samp, y_samp, p0=p0)     \n",
    "print(\"Estimated Parameters\", w)  \n",
    "\n",
    "# Model\n",
    "y_model = func(x_lin, *w)\n",
    "\n",
    "# PLOT ------------------------------------------------------------------------\n",
    "# Visualize data and fitted curves\n",
    "plt.figure(figsize=[8,8])\n",
    "plt.plot(x_samp, y_samp,\"ko\", label=\"Dados coletados\")\n",
    "plt.plot(x_lin, y_model, \"r--\", label=\"Curva Ajustada\")\n",
    "plt.xlabel(\"Tempo (s)\")\n",
    "plt.ylabel(\"Força Eletromotriz ε (V)\")\n",
    "plt.legend()\n",
    "plt.show()\n"
   ]
  }
 ],
 "metadata": {
  "interpreter": {
   "hash": "f7842ba6495919166000e49f7d621922db46ba650a68b7399e2f66393b439c28"
  },
  "kernelspec": {
   "display_name": "Python 3.10.2 64-bit",
   "language": "python",
   "name": "python3"
  },
  "language_info": {
   "codemirror_mode": {
    "name": "ipython",
    "version": 3
   },
   "file_extension": ".py",
   "mimetype": "text/x-python",
   "name": "python",
   "nbconvert_exporter": "python",
   "pygments_lexer": "ipython3",
   "version": "3.10.2"
  },
  "orig_nbformat": 4
 },
 "nbformat": 4,
 "nbformat_minor": 2
}
